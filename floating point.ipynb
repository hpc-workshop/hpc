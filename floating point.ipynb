{
 "cells": [
  {
   "cell_type": "markdown",
   "metadata": {},
   "source": [
    "<img src=\"images/float.png\">"
   ]
  },
  {
   "cell_type": "code",
   "execution_count": null,
   "metadata": {},
   "outputs": [],
   "source": [
    "%%writefile Floating_point_precision_1.cpp\n",
    "\n",
    "int main()\n",
    "{\n",
    "    float fValue;\n",
    "    double dValue;\n",
    "    long double ldValue;\n",
    "    \n",
    "    return 0;\n",
    "}\n"
   ]
  },
  {
   "cell_type": "code",
   "execution_count": null,
   "metadata": {},
   "outputs": [],
   "source": [
    "!g++ -o FPT_1 Floating_point_precision_1.cpp"
   ]
  },
  {
   "cell_type": "code",
   "execution_count": null,
   "metadata": {},
   "outputs": [],
   "source": [
    "!./FPT_1"
   ]
  },
  {
   "cell_type": "code",
   "execution_count": null,
   "metadata": {},
   "outputs": [],
   "source": [
    "%%writefile Floating_point_precision_2.cpp\n",
    "\n",
    "#include <iostream>\n",
    "\n",
    "int main()\n",
    "{\n",
    "    std::cout << 5.0 << '\\n';\n",
    "    std::cout << 6.7f << '\\n';\n",
    "    std::cout << 9876543.21 << '\\n';\n",
    "\n",
    "    return 0;\n",
    "}"
   ]
  },
  {
   "cell_type": "code",
   "execution_count": null,
   "metadata": {},
   "outputs": [],
   "source": [
    "!g++ -o FPT_2 Floating_point_precision_2.cpp"
   ]
  },
  {
   "cell_type": "code",
   "execution_count": null,
   "metadata": {},
   "outputs": [],
   "source": [
    "!./FPT_2"
   ]
  },
  {
   "cell_type": "markdown",
   "metadata": {},
   "source": [
    "# Floating point range\n",
    "<img src=\"images/float.png\">"
   ]
  },
  {
   "cell_type": "code",
   "execution_count": null,
   "metadata": {},
   "outputs": [],
   "source": [
    "%%writefile Floating_point_precision_3.cpp\n",
    "\n",
    "#include <iostream>\n",
    "#include <iomanip> // for output manipulator std::setprecision()\n",
    "\n",
    "int main()\n",
    "{\n",
    "    std::cout << std::setprecision(16); // show 16 digits of precision\n",
    "    std::cout << 3.33333333333333333333333333333333333333f <<'\\n'; // f suffix means float\n",
    "    std::cout << 3.33333333333333333333333333333333333333 << '\\n'; // no suffix means double\n",
    "\n",
    "    return 0;\n",
    "}"
   ]
  },
  {
   "cell_type": "code",
   "execution_count": null,
   "metadata": {},
   "outputs": [],
   "source": [
    "!g++ -o FPT_3 Floating_point_precision_3.cpp"
   ]
  },
  {
   "cell_type": "code",
   "execution_count": null,
   "metadata": {},
   "outputs": [],
   "source": [
    "!./FPT_3"
   ]
  },
  {
   "cell_type": "markdown",
   "metadata": {},
   "source": [
    "Precision issues don’t just impact fractional numbers, they impact any number with too many significant digits. Let’s consider a big number:"
   ]
  },
  {
   "cell_type": "code",
   "execution_count": null,
   "metadata": {},
   "outputs": [],
   "source": [
    "%%writefile Floating_point_precision_4.cpp\n",
    "\n",
    "#include <iomanip> // for std::setprecision()\n",
    "#include <iostream>\n",
    "\n",
    "int main()\n",
    "{\n",
    "    float f { 123456789.0f }; // f has 10 significant digits\n",
    "    std::cout << std::setprecision(9); // to show 9 digits in f\n",
    "    std::cout << f << '\\n';\n",
    "\n",
    "    return 0;\n",
    "}"
   ]
  },
  {
   "cell_type": "code",
   "execution_count": null,
   "metadata": {},
   "outputs": [],
   "source": [
    "!g++ -o FPT_4 Floating_point_precision_4.cpp"
   ]
  },
  {
   "cell_type": "code",
   "execution_count": null,
   "metadata": {},
   "outputs": [],
   "source": [
    "!./FPT_4.exe"
   ]
  },
  {
   "cell_type": "markdown",
   "metadata": {},
   "source": [
    "# Rounding errors make floating point comparisons tricky"
   ]
  },
  {
   "cell_type": "code",
   "execution_count": null,
   "metadata": {},
   "outputs": [],
   "source": [
    "%%writefile Floating_point_precision_5.cpp\n",
    "\n",
    "#include <iomanip> // for std::setprecision()\n",
    "#include <iostream>\n",
    "\n",
    "int main()\n",
    "{\n",
    "    double d{0.1};\n",
    "    std::cout << d << '\\n'; // use default cout precision of 6\n",
    "    std::cout << std::setprecision(17);\n",
    "    std::cout << d << '\\n';\n",
    "\n",
    "    return 0;\n",
    "}"
   ]
  },
  {
   "cell_type": "code",
   "execution_count": null,
   "metadata": {},
   "outputs": [],
   "source": [
    "!g++ -o FPT_5 Floating_point_precision_5.cpp"
   ]
  },
  {
   "cell_type": "code",
   "execution_count": null,
   "metadata": {},
   "outputs": [],
   "source": [
    "!./FPT_5"
   ]
  },
  {
   "cell_type": "markdown",
   "metadata": {},
   "source": [
    "Rounding errors can have unexpected consequences:"
   ]
  },
  {
   "cell_type": "code",
   "execution_count": null,
   "metadata": {},
   "outputs": [],
   "source": [
    "%%writefile Floating_point_precision_6.cpp\n",
    "\n",
    "#include <iomanip> // for std::setprecision()\n",
    "#include <iostream>\n",
    "\n",
    "int main()\n",
    "{\n",
    "    std::cout << std::setprecision(17);\n",
    "\n",
    "    double d1{ 1.0 };\n",
    "    std::cout << d1 << '\\n';\n",
    "\n",
    "    double d2{ 0.1 + 0.1 + 0.1 + 0.1 + 0.1 + 0.1 + 0.1 + 0.1 + 0.1 + 0.1 }; // should equal 1.0\n",
    "    std::cout << d2 << '\\n';\n",
    "\n",
    "    return 0;\n",
    "}"
   ]
  },
  {
   "cell_type": "code",
   "execution_count": null,
   "metadata": {},
   "outputs": [],
   "source": [
    "!g++ -o FPT_6 Floating_point_precision_6.cpp"
   ]
  },
  {
   "cell_type": "code",
   "execution_count": null,
   "metadata": {},
   "outputs": [],
   "source": [
    "!./FPT_6"
   ]
  },
  {
   "cell_type": "markdown",
   "metadata": {},
   "source": [
    "# NaN and Inf\n",
    "\n",
    "There are two special categories of floating point numbers. The first is Inf, which represents infinity. Inf can be positive or negative. The second is NaN, which stands for “Not a Number”. There are several different kinds of NaN (which we won’t discuss here). NaN and Inf are only available if the compiler uses a specific format (IEEE 754) for floating point numbers. If another format is used, the following code produces undefined behavior.\n",
    "\n",
    "Here’s a program showing all three:"
   ]
  },
  {
   "cell_type": "code",
   "execution_count": null,
   "metadata": {},
   "outputs": [],
   "source": [
    "%%writefile Floating_point_precision_7.cpp\n",
    "\n",
    "#include <iostream>\n",
    "\n",
    "int main()\n",
    "{\n",
    "    double zero {0.0};\n",
    "    double posinf { 5.0 / zero }; // positive infinity\n",
    "    std::cout << posinf << '\\n';\n",
    "\n",
    "    double neginf { -5.0 / zero }; // negative infinity\n",
    "    std::cout << neginf << '\\n';\n",
    "\n",
    "    double nan { zero / zero }; // not a number (mathematically invalid)\n",
    "    std::cout << nan << '\\n';\n",
    "\n",
    "    return 0;\n",
    "}"
   ]
  },
  {
   "cell_type": "code",
   "execution_count": null,
   "metadata": {},
   "outputs": [],
   "source": [
    "!g++ -o FPT_7 Floating_point_precision_7.cpp"
   ]
  },
  {
   "cell_type": "code",
   "execution_count": null,
   "metadata": {},
   "outputs": [],
   "source": [
    "!./FPT_7"
   ]
  },
  {
   "cell_type": "code",
   "execution_count": null,
   "metadata": {},
   "outputs": [],
   "source": [
    "%%writefile session_example.cpp\n",
    "\n",
    "#include <time.h>\n",
    "#include <cstdio>\n",
    "#include <iostream>\n",
    "#include <fstream>\n",
    "\n",
    "using namespace std;\n",
    "\n",
    "#define n 1000\n",
    "\n",
    "int main()\n",
    "{\n",
    "\n",
    "int i,j;\n",
    "int m[n][n];\n",
    "double time_first, time_second;\n",
    "int tmax=1000;\n",
    "\n",
    "clock_t t1, t2, t3, t4;\n",
    "\n",
    "//first\n",
    "t1 = clock();\n",
    "for (int t=0; t<tmax; t++){\n",
    "\n",
    "for(i=0; i<n; i++)\n",
    "    for(j=0; j<n; j++)\n",
    "        m[i][j] = i+j;\n",
    "}\n",
    "\n",
    "t2=clock();\n",
    "time_first = (t2 -t1)/(CLOCKS_PER_SEC);\n",
    "//second\n",
    "t3=clock();\n",
    "for (int t=0; t<tmax; t++){\n",
    "for(j=0; j<n; j++)\n",
    "    for(i=0; i<n; i++)\n",
    "        m[i][j] = i+j;\n",
    "\n",
    "}\n",
    "t4=clock();\n",
    "time_second = (t4 -t3)/(CLOCKS_PER_SEC);\n",
    "\n",
    "cout <<\"time of first array accesssing is : \"<<time_first<<endl;\n",
    "cout <<\"time of second array accesssing is : \"<<time_second<<endl;\n",
    "\n",
    "}"
   ]
  },
  {
   "cell_type": "code",
   "execution_count": null,
   "metadata": {},
   "outputs": [],
   "source": [
    "!g++ -o FPT_8 session_example.cpp"
   ]
  },
  {
   "cell_type": "code",
   "execution_count": null,
   "metadata": {},
   "outputs": [],
   "source": [
    "!./FPT_8"
   ]
  }
 ],
 "metadata": {
  "kernelspec": {
   "display_name": "Python 3",
   "language": "python",
   "name": "python3"
  },
  "language_info": {
   "codemirror_mode": {
    "name": "ipython",
    "version": 3
   },
   "file_extension": ".py",
   "mimetype": "text/x-python",
   "name": "python",
   "nbconvert_exporter": "python",
   "pygments_lexer": "ipython3",
   "version": "3.8.10"
  }
 },
 "nbformat": 4,
 "nbformat_minor": 4
}
