{
 "cells": [
  {
   "cell_type": "markdown",
   "metadata": {},
   "source": [
    "# MPI codes"
   ]
  },
  {
   "cell_type": "markdown",
   "metadata": {},
   "source": [
    "## jupyter tip: \n",
    "how could one see proper syntax?"
   ]
  },
  {
   "cell_type": "markdown",
   "metadata": {},
   "source": [
    "```cpp\n",
    "\n",
    "#include <stdio.h>\n",
    "#include <mpi.h>\n",
    "#include <string.h>\n",
    "\n",
    "int main(int argc, char *argv[])\n",
    "{\n",
    "  int npes, myrank, namelen, i;\n",
    "  char processor_name[MPI_MAX_PROCESSOR_NAME];\n",
    "  char greeting[MPI_MAX_PROCESSOR_NAME + 80];\n",
    "  MPI_Status status;\n",
    "  \n",
    "  MPI_Init(&argc, &argv);\n",
    "  MPI_Comm_size(MPI_COMM_WORLD, &npes);\n",
    "  MPI_Comm_rank(MPI_COMM_WORLD, &myrank);\n",
    "  MPI_Get_processor_name( processor_name, &namelen );\n",
    "\n",
    "  sprintf( greeting, \"Hello, World, From process %d of %d on %s\", myrank, npes, processor_name );\n",
    "\n",
    "  if (myrank == 0 ) {\n",
    "\t  printf( \"%s\\n\", greeting );\n",
    "\t  for (i = 1; i < npes; i++) {\n",
    "\t\t  MPI_Recv( greeting, sizeof( greeting ), MPI_CHAR, i, 1, MPI_COMM_WORLD, &status);\n",
    "\t\t  printf( \"%s\\n\", greeting );\n",
    "\t   }\n",
    "  }\n",
    "  else {\n",
    "\t  MPI_Send( greeting, strlen( greeting ) + 1, MPI_CHAR, 0, 1, MPI_COMM_WORLD);\n",
    "  }\n",
    "    \n",
    "  MPI_Finalize();\n",
    "  return 0;\n",
    "}\n",
    "\n",
    "```"
   ]
  },
  {
   "cell_type": "markdown",
   "metadata": {},
   "source": [
    "# BSend_Recv_1 C"
   ]
  },
  {
   "cell_type": "code",
   "execution_count": 11,
   "metadata": {},
   "outputs": [
    {
     "name": "stdout",
     "output_type": "stream",
     "text": [
      "Overwriting BSend_Recv_1.c\n"
     ]
    }
   ],
   "source": [
    "%%writefile BSend_Recv_1.c\n",
    "\n",
    "#include <stdio.h>\n",
    "#include <mpi.h>\n",
    "#include <string.h>\n",
    "\n",
    "int main(int argc, char *argv[])\n",
    "{\n",
    "  int npes, myrank, namelen, i;\n",
    "  char processor_name[MPI_MAX_PROCESSOR_NAME];\n",
    "  char greeting[MPI_MAX_PROCESSOR_NAME + 80];\n",
    "  MPI_Status status;\n",
    "  \n",
    "  MPI_Init(&argc, &argv);\n",
    "  MPI_Comm_size(MPI_COMM_WORLD, &npes);\n",
    "  MPI_Comm_rank(MPI_COMM_WORLD, &myrank);\n",
    "  MPI_Get_processor_name( processor_name, &namelen );\n",
    "\n",
    "  sprintf( greeting, \"Hello, World, From process %d of %d on %s\", myrank, npes, processor_name );\n",
    "\n",
    "  if (myrank == 0 ) {\n",
    "\t  printf( \"%s\\n\", greeting );\n",
    "\t  for (i = 1; i < npes; i++) {\n",
    "\t\t  MPI_Recv( greeting, sizeof( greeting ), MPI_CHAR, i, 1, MPI_COMM_WORLD, &status);\n",
    "\t\t  printf( \"%s\\n\", greeting );\n",
    "\t   }\n",
    "  }\n",
    "  else {\n",
    "\t  MPI_Send( greeting, strlen( greeting ) + 1, MPI_CHAR, 0, 1, MPI_COMM_WORLD);\n",
    "  }\n",
    "    \n",
    "  MPI_Finalize();\n",
    "  return 0;\n",
    "}"
   ]
  },
  {
   "cell_type": "markdown",
   "metadata": {},
   "source": [
    "## Compile"
   ]
  },
  {
   "cell_type": "code",
   "execution_count": 12,
   "metadata": {},
   "outputs": [],
   "source": [
    "!mpicc -o BSend_Recv_1 BSend_Recv_1.c"
   ]
  },
  {
   "cell_type": "markdown",
   "metadata": {},
   "source": [
    "## Run"
   ]
  },
  {
   "cell_type": "code",
   "execution_count": 13,
   "metadata": {},
   "outputs": [
    {
     "name": "stdout",
     "output_type": "stream",
     "text": [
      "Hello, World, From process 0 of 2 on morteza-TravelMate-P243\r\n",
      "Hello, World, From process 1 of 2 on morteza-TravelMate-P243\r\n"
     ]
    }
   ],
   "source": [
    "!mpirun -n 2 BSend_Recv_1"
   ]
  },
  {
   "cell_type": "markdown",
   "metadata": {},
   "source": [
    "#  BSend_Recv_1 Fortran"
   ]
  },
  {
   "cell_type": "code",
   "execution_count": 5,
   "metadata": {},
   "outputs": [
    {
     "name": "stdout",
     "output_type": "stream",
     "text": [
      "Writing BSend_Recv_1.for\n"
     ]
    }
   ],
   "source": [
    "%%writefile BSend_Recv_1.for\n",
    "\n",
    "       Program size_rank\n",
    "\n",
    "         implicit none\n",
    "         include 'mpif.h'\n",
    "\n",
    "         INTEGER ierr,npes,myrank,namelen,i\n",
    "         INTEGER stat(MPI_STATUS_SIZE)\n",
    "         CHARACTER*(MPI_MAX_PROCESSOR_NAME) processor_name\n",
    "         CHARACTER (MPI_MAX_PROCESSOR_NAME + 80) greeting\n",
    "C         INTEGER len = MPI_MAX_PROCESSOR_NAME + 80\n",
    "         CHARACTER(1) numb(0:9)\n",
    "         \n",
    "         numb(0)=\"0\"\n",
    "         numb(1)=\"1\"\n",
    "         numb(2)=\"2\"\n",
    "         numb(3)=\"3\"\n",
    "         numb(4)=\"4\"\n",
    "         numb(5)=\"5\"\n",
    "         numb(6)=\"6\"\n",
    "         numb(7)=\"7\"\n",
    "         numb(8)=\"8\"\n",
    "         numb(9)=\"9\"\n",
    "  \n",
    "         call MPI_INIT( ierr )\n",
    "\n",
    "         call MPI_COMM_SIZE( MPI_COMM_WORLD, npes, ierr )\n",
    "         call MPI_COMM_RANK( MPI_COMM_WORLD, myrank, ierr )\n",
    "         call MPI_GET_PROCESSOR_NAME(processor_name,namelen,ierr)\n",
    "         \n",
    "         greeting = 'Hello Wold , From process '//numb(myrank)//\n",
    "     *' of '//numb(npes)//' on '//processor_name   \n",
    "         IF(myrank.EQ.0) THEN\n",
    "            print*, greeting \n",
    "            DO i = 1,  npes -1\n",
    "\n",
    "              call MPI_RECV(greeting, len(greeting)+1,MPI_CHARACTER,i,1,\n",
    "     *                   MPI_COMM_WORLD,stat,ierr)\n",
    "              print*,greeting\n",
    "           \n",
    "            END DO\n",
    "         ELSE\n",
    "             call MPI_SEND(greeting,len(greeting)+1,MPI_CHARACTER,0,1,\n",
    "     *            MPI_COMM_WORLD,ierr)\n",
    "         ENDIF\n",
    "         call MPI_FINALIZE(ierr)\n",
    "       End   "
   ]
  },
  {
   "cell_type": "markdown",
   "metadata": {},
   "source": [
    "## Compile"
   ]
  },
  {
   "cell_type": "code",
   "execution_count": 6,
   "metadata": {},
   "outputs": [],
   "source": [
    "!mpif90 -o BSend_Recv_1_fortran BSend_Recv_1.f"
   ]
  },
  {
   "cell_type": "markdown",
   "metadata": {},
   "source": [
    "## Run"
   ]
  },
  {
   "cell_type": "code",
   "execution_count": 7,
   "metadata": {},
   "outputs": [
    {
     "name": "stdout",
     "output_type": "stream",
     "text": [
      " Hello Wold , From process 0 of 2 on morteza-TravelMate-P243                                                                                                                                                                                                                                                                                    \r\n",
      " Hello Wold , From process 1 of 2 on morteza-TravelMate-P243                                                                                                                                                                                                                                                                                    \r\n"
     ]
    }
   ],
   "source": [
    "!mpirun -n 2 BSend_Recv_1_fortran"
   ]
  },
  {
   "cell_type": "markdown",
   "metadata": {},
   "source": [
    "# BSend_Recv_2  CPP"
   ]
  },
  {
   "cell_type": "code",
   "execution_count": 8,
   "metadata": {},
   "outputs": [
    {
     "name": "stdout",
     "output_type": "stream",
     "text": [
      "Overwriting BSend_Recv_2.cpp\n"
     ]
    }
   ],
   "source": [
    "%%writefile BSend_Recv_2.cpp\n",
    "\n",
    "#include <stdio.h>\n",
    "#include <mpi.h>\n",
    "#include <iostream.h>\n",
    "#define np 8\n",
    "\n",
    "int main(int argc, char *argv[])\n",
    "{\n",
    "  int npes, myrank, i, j;\n",
    "  int a[np+2][np+2];\n",
    "  int left, right;\n",
    "  MPI_Status stat;\n",
    "  \n",
    "  MPI_Init(&argc, &argv);\n",
    "  MPI_Comm_size(MPI_COMM_WORLD, &npes);\n",
    "  MPI_Comm_rank(MPI_COMM_WORLD, &myrank);\n",
    " \n",
    "  for(j =0; j<= np+1; j++){\n",
    "\t  for(i=0; i<= np+1; i++)\n",
    "\t\t  a[i][j] = myrank*100+10*j+i;\n",
    "  }\n",
    "  \n",
    "  left = myrank - 1;\n",
    "  right= myrank + 1;\n",
    "  \n",
    "  if(myrank == 1 ) left = npes -1 ;\n",
    "  if(myrank == (npes-1)) aright = 1;\n",
    "  \n",
    "if (myrank != 0 ) {\n",
    "\t  if(myrank%2==0){\n",
    "\t\tMPI_Send(&a[1][0],np+2,MPI_INT,left,1,MPI_COMM_WORLD);\n",
    "\t\tMPI_Send(&a[np][0],np+2,MPI_INT,right,1,MPI_COMM_WORLD);\n",
    "\t\tMPI_Recv(&a[0][0],np+2,MPI_INT,left,1,MPI_COMM_WORLD,&stat);\n",
    "\t\tMPI_Recv(&a[np+1][0],np+2,MPI_INT,right,1,MPI_COMM_WORLD,&stat);\n",
    "\t  }else{\n",
    "\t\tMPI_Recv(&a[np+1][0],np+2,MPI_INT,right,1,MPI_COMM_WORLD,&stat);\n",
    "\t\tMPI_Recv(&a[0][0],np+2,MPI_INT,left,1,MPI_COMM_WORLD,&stat);\n",
    " \t\tMPI_Send(&a[np][0],np+2,MPI_INT,right,1,MPI_COMM_WORLD);\n",
    "\t\tMPI_Send(&a[1][0],np+2,MPI_INT,left,1,MPI_COMM_WORLD);\n",
    "\t  }\n",
    "}\n",
    "\n",
    "cout<<\" This is node: \"<<myrank<<'\\n';\n",
    "  for(j=0; j<=np+1; j++){\n",
    "       for(i=0; i<=np+1; i++){\n",
    "            cout<<a[i][j]<<\" \";\n",
    "       }\n",
    "       cout<<'\\n';       \n",
    "  }\n",
    "\n",
    "  MPI_Finalize();\n",
    "  return 0;\n",
    "}"
   ]
  },
  {
   "cell_type": "markdown",
   "metadata": {},
   "source": [
    "## Compile"
   ]
  },
  {
   "cell_type": "code",
   "execution_count": null,
   "metadata": {},
   "outputs": [],
   "source": []
  },
  {
   "cell_type": "markdown",
   "metadata": {},
   "source": [
    "## Run"
   ]
  },
  {
   "cell_type": "markdown",
   "metadata": {},
   "source": [
    "# BSend_Recv_2 Fortran"
   ]
  },
  {
   "cell_type": "code",
   "execution_count": 33,
   "metadata": {},
   "outputs": [
    {
     "name": "stdout",
     "output_type": "stream",
     "text": [
      "Writing BSend_Recv_2.for\n"
     ]
    }
   ],
   "source": [
    "%%writefile BSend_Recv_2.for\n",
    "\n",
    "       Program size_rank\n",
    "\n",
    "         implicit none\n",
    "         include 'mpif.h'\n",
    "         INTEGER np\n",
    "         PARAMETER(np = 8)\n",
    "         INTEGER ierr,npes,myrank,i,j\n",
    "         INTEGER a(0:np+1,0:np+1)\n",
    "         INTEGER left, right\n",
    "         INTEGER stat(MPI_STATUS_SIZE)\n",
    "           \n",
    "         call MPI_INIT( ierr )\n",
    "         call MPI_COMM_SIZE( MPI_COMM_WORLD, npes, ierr )\n",
    "         call MPI_COMM_RANK( MPI_COMM_WORLD, myrank, ierr )\n",
    "\n",
    "         DO j = 0, np+1\n",
    "             DO i = 0, np+1\n",
    "                a(i,j) = myrank*100+i*10+j\n",
    "             END DO\n",
    "         END DO\n",
    "\n",
    "         left = myrank - 1\n",
    "         right = myrank +1 \n",
    "         IF(myrank.EQ.1) left = npes-1\n",
    "         IF(myrank.EQ.(npes -1)) right = 1\n",
    "\n",
    "         IF(myrank.NE.0) THEN\n",
    "          IF(MOD(myrank,2).EQ.0)THEN\n",
    "             call MPI_SEND(a(0,1),np+2,MPI_INTEGER,left,1,\n",
    "     *            MPI_COMM_WORLD,ierr)\n",
    "             call MPI_SEND(a(0,np),np+2,MPI_INTEGER,right,1,\n",
    "     *            MPI_COMM_WORLD,ierr)\n",
    "              call MPI_RECV(a(0,0),np+2,MPI_INTEGER,left,1,\n",
    "     *                   MPI_COMM_WORLD,stat,ierr)\n",
    "              call MPI_RECV(a(0,np+1),np+2,MPI_INTEGER,right,1,\n",
    "     *                   MPI_COMM_WORLD,stat,ierr)\n",
    "          ELSE\n",
    "              call MPI_RECV(a(0,np+1),np+2,MPI_INTEGER,right,1,\n",
    "     *                   MPI_COMM_WORLD,stat,ierr)\n",
    "              call MPI_RECV(a(0,0),np+2,MPI_INTEGER,left,1,\n",
    "     *                   MPI_COMM_WORLD,stat,ierr)\n",
    "             call MPI_SEND(a(0,np),np+2,MPI_INTEGER,right,1,\n",
    "     *            MPI_COMM_WORLD,ierr)\n",
    "             call MPI_SEND(a(0,1),np+2,MPI_INTEGER,left,1,\n",
    "     *            MPI_COMM_WORLD,ierr)\n",
    "          ENDIF    \n",
    "         END IF\n",
    "\n",
    "         PRINT*,\"This is node: \",myrank  \n",
    "         DO i = 0,  np+1\n",
    "              WRITE(*,*)(a(i,j), j=0,np+1)\n",
    "         END DO\n",
    "        call MPI_FINALIZE(ierr)\n",
    "       End   "
   ]
  },
  {
   "cell_type": "markdown",
   "metadata": {},
   "source": [
    "## Compile"
   ]
  },
  {
   "cell_type": "code",
   "execution_count": null,
   "metadata": {},
   "outputs": [],
   "source": []
  },
  {
   "cell_type": "markdown",
   "metadata": {},
   "source": [
    "## Run"
   ]
  },
  {
   "cell_type": "code",
   "execution_count": null,
   "metadata": {},
   "outputs": [],
   "source": []
  },
  {
   "cell_type": "markdown",
   "metadata": {},
   "source": [
    "# main Cpp"
   ]
  },
  {
   "cell_type": "code",
   "execution_count": 10,
   "metadata": {},
   "outputs": [
    {
     "name": "stdout",
     "output_type": "stream",
     "text": [
      "Overwriting main.cpp\n"
     ]
    }
   ],
   "source": [
    "%%writefile main.cpp\n",
    "\n",
    "\n",
    "#include <iostream.h>\n",
    "#include <mpi.h>\n",
    "\n",
    "int main(int argc, char **argv)\n",
    "{\n",
    "  \n",
    "  MPI_Init(&argc, &argv);\n",
    "  \n",
    "  cout<<\"HI There\\n\";\n",
    "\n",
    "  MPI_Finalize();\n",
    "  return 0;\n",
    "}\n"
   ]
  },
  {
   "cell_type": "markdown",
   "metadata": {},
   "source": [
    "# main Fortran"
   ]
  },
  {
   "cell_type": "code",
   "execution_count": 11,
   "metadata": {},
   "outputs": [
    {
     "name": "stdout",
     "output_type": "stream",
     "text": [
      "Writing main.for\n"
     ]
    }
   ],
   "source": [
    "%%writefile main.for\n",
    "\n",
    "       Program main\n",
    "\n",
    "         implicit none\n",
    "         include 'mpif.h'\n",
    "         integer ierr,rc\n",
    "         call MPI_INIT( ierr )\n",
    "\n",
    "         print*,' HI There'\n",
    "\n",
    "         call MPI_FINALIZE(rc)\n",
    "       End   \n"
   ]
  },
  {
   "cell_type": "markdown",
   "metadata": {},
   "source": [
    "## Compile"
   ]
  },
  {
   "cell_type": "code",
   "execution_count": null,
   "metadata": {},
   "outputs": [],
   "source": []
  },
  {
   "cell_type": "markdown",
   "metadata": {},
   "source": [
    "## Run"
   ]
  },
  {
   "cell_type": "code",
   "execution_count": null,
   "metadata": {},
   "outputs": [],
   "source": []
  },
  {
   "cell_type": "markdown",
   "metadata": {},
   "source": [
    "# NBSend_Recv_1 Cpp"
   ]
  },
  {
   "cell_type": "code",
   "execution_count": 12,
   "metadata": {},
   "outputs": [
    {
     "name": "stdout",
     "output_type": "stream",
     "text": [
      "Writing omp_hello.for\n"
     ]
    }
   ],
   "source": [
    "%%writefile omp_hello.for\n",
    "\n",
    "\n",
    "#include <stdio.h>\n",
    "#include <mpi.h>\n",
    "#include <string.h>\n",
    "\n",
    "int main(int argc, char *argv[])\n",
    "{\n",
    "  int npes, myrank, namelen, i;\n",
    "  char processor_name[MPI_MAX_PROCESSOR_NAME];\n",
    "  char greeting[MPI_MAX_PROCESSOR_NAME + 80];\n",
    "  MPI_Status status;\n",
    "  MPI_Request request;\n",
    "  \n",
    "  MPI_Init(&argc, &argv);\n",
    "  MPI_Comm_size(MPI_COMM_WORLD, &npes);\n",
    "  MPI_Comm_rank(MPI_COMM_WORLD, &myrank);\n",
    "  MPI_Get_processor_name( processor_name, &namelen );\n",
    "\n",
    "  sprintf( greeting, \"Hello, World, From process %d of %d on %s\", myrank, npes, processor_name );\n",
    "\n",
    "  if (myrank == 0 ) {\n",
    "\t  printf( \"%s\\n\", greeting );\n",
    "\t  for (i = 1; i < npes; i++) {\n",
    "\t\t  MPI_Irecv( greeting, sizeof( greeting ), MPI_CHAR, i, 1, MPI_COMM_WORLD, &request);\n",
    "\t//\t MPI_Wait(&request,&status);\n",
    "\t\t  printf( \"%s\\n\", greeting );\n",
    "\t\t  \n",
    "\t   }\n",
    "  }\n",
    "  else {\n",
    "\t  MPI_Isend( greeting, strlen( greeting ) + 1, MPI_CHAR, 0, 1, MPI_COMM_WORLD,&request);\n",
    "\t  MPI_Wait(&request,&status);\n",
    "  }\n",
    "//   MPI_Waitall(2,request,status); \n",
    "  MPI_Finalize();\n",
    "  return 0;\n",
    "}\n"
   ]
  },
  {
   "cell_type": "markdown",
   "metadata": {},
   "source": [
    "## Compile"
   ]
  },
  {
   "cell_type": "code",
   "execution_count": null,
   "metadata": {},
   "outputs": [],
   "source": []
  },
  {
   "cell_type": "markdown",
   "metadata": {},
   "source": [
    "## Run"
   ]
  },
  {
   "cell_type": "code",
   "execution_count": null,
   "metadata": {},
   "outputs": [],
   "source": []
  },
  {
   "cell_type": "markdown",
   "metadata": {},
   "source": [
    "# NBSend_Recv_1 Fortran"
   ]
  },
  {
   "cell_type": "code",
   "execution_count": 13,
   "metadata": {},
   "outputs": [
    {
     "name": "stdout",
     "output_type": "stream",
     "text": [
      "Writing NBSend_Recv_1.for\n"
     ]
    }
   ],
   "source": [
    "%%writefile NBSend_Recv_1.for\n",
    "\n",
    "\n",
    "       Program size_rank\n",
    "\n",
    "         implicit none\n",
    "         include 'mpif.h'\n",
    "\n",
    "         INTEGER ierr,npes,myrank,namelen,i\n",
    "         INTEGER stat(MPI_STATUS_SIZE)\n",
    "         INTEGER request\n",
    "         CHARACTER*(MPI_MAX_PROCESSOR_NAME) processor_name\n",
    "         CHARACTER (MPI_MAX_PROCESSOR_NAME + 80) greeting\n",
    "C         INTEGER len = MPI_MAX_PROCESSOR_NAME + 80\n",
    "         CHARACTER(1) numb(0:9)\n",
    "         \n",
    "         numb(0)=\"0\"\n",
    "         numb(1)=\"1\"\n",
    "         numb(2)=\"2\"\n",
    "         numb(3)=\"3\"\n",
    "         numb(4)=\"4\"\n",
    "         numb(5)=\"5\"\n",
    "         numb(6)=\"6\"\n",
    "         numb(7)=\"7\"\n",
    "         numb(8)=\"8\"\n",
    "         numb(9)=\"9\"\n",
    "  \n",
    "         call MPI_INIT( ierr )\n",
    "\n",
    "         call MPI_COMM_SIZE( MPI_COMM_WORLD, npes, ierr )\n",
    "         call MPI_COMM_RANK( MPI_COMM_WORLD, myrank, ierr )\n",
    "         call MPI_GET_PROCESSOR_NAME(processor_name,namelen,ierr)\n",
    "         \n",
    "         greeting = 'Hello Wold , From process '//numb(myrank)//\n",
    "     *' of '//numb(npes)//' on '//processor_name   \n",
    "         IF(myrank.EQ.0) THEN\n",
    "            print*, greeting \n",
    "            DO i = 1,  npes -1\n",
    "\n",
    "             call MPI_IRECV(greeting, len(greeting)+1,MPI_CHARACTER,i,1,\n",
    "     *                   MPI_COMM_WORLD,request,ierr)\n",
    "            \n",
    "             call MPI_WAIT(request,stat,ierr)\n",
    "             print*,greeting\n",
    "            END DO\n",
    "         ELSE\n",
    "            call MPI_ISEND(greeting,len(greeting)+1,MPI_CHARACTER,0,1,\n",
    "     *            MPI_COMM_WORLD,request,ierr)\n",
    "            call MPI_WAIT(request,stat,ierr)     \n",
    "         ENDIF\n",
    "         call MPI_FINALIZE(ierr)\n",
    "       End   \n",
    "\n"
   ]
  },
  {
   "cell_type": "markdown",
   "metadata": {},
   "source": [
    "## Compile"
   ]
  },
  {
   "cell_type": "code",
   "execution_count": null,
   "metadata": {},
   "outputs": [],
   "source": []
  },
  {
   "cell_type": "markdown",
   "metadata": {},
   "source": [
    "## Run"
   ]
  },
  {
   "cell_type": "code",
   "execution_count": null,
   "metadata": {},
   "outputs": [],
   "source": []
  },
  {
   "cell_type": "markdown",
   "metadata": {},
   "source": [
    "# NBSend_Recv_2 CPP\n"
   ]
  },
  {
   "cell_type": "code",
   "execution_count": 14,
   "metadata": {},
   "outputs": [
    {
     "name": "stdout",
     "output_type": "stream",
     "text": [
      "Writing NBSend_Recv_2.cpp\n"
     ]
    }
   ],
   "source": [
    "%%writefile NBSend_Recv_2.cpp\n",
    "\n",
    "\n",
    "#include <stdio.h>\n",
    "#include <mpi.h>\n",
    "#include <string.h>\n",
    "#include <iostream.h>\n",
    "int main(int argc, char *argv[])\n",
    "{\n",
    "  int npes, myrank, namelen, i;\n",
    "  char processor_name[MPI_MAX_PROCESSOR_NAME];\n",
    "  char greeting[MPI_MAX_PROCESSOR_NAME + 80];\n",
    "  int flag;\n",
    "  MPI_Status status;\n",
    "  MPI_Request request;\n",
    "  \n",
    "  MPI_Init(&argc, &argv);\n",
    "  MPI_Comm_size(MPI_COMM_WORLD, &npes);\n",
    "  MPI_Comm_rank(MPI_COMM_WORLD, &myrank);\n",
    "  MPI_Get_processor_name( processor_name, &namelen );\n",
    "\n",
    "  sprintf( greeting, \"Hello, World, From process %d of %d on %s\", myrank, npes, processor_name );\n",
    "\n",
    "  if (myrank == 0 ) {\n",
    "\t  printf( \"%s\\n\", greeting );\n",
    "\t  for (i = 1; i < npes; i++) {\n",
    "\t\t  MPI_Irecv( greeting, sizeof( greeting ), MPI_CHAR, i, 1, MPI_COMM_WORLD, &request);\n",
    "\t\t  MPI_Wait(&request,&status);\n",
    "\t\t  MPI_Test(&request,&flag,&status);\n",
    "\t\t  printf( \"%s\", greeting );\n",
    "\t\t  cout<<\" &  flag is: \"<<flag<<'\\n';\n",
    "\t   }\n",
    "  }\n",
    "  else {\n",
    "\t  MPI_Isend( greeting, strlen( greeting ) + 1, MPI_CHAR, 0, 1, MPI_COMM_WORLD,&request);\n",
    "\t  MPI_Wait(&request,&status);\n",
    "\t  MPI_Test(&request,&flag,&status);\n",
    "  }\n",
    "//   MPI_Waitall(2,request,status); \n",
    "  MPI_Finalize();\n",
    "  return 0;\n",
    "}\n"
   ]
  },
  {
   "cell_type": "markdown",
   "metadata": {},
   "source": [
    "## Compile"
   ]
  },
  {
   "cell_type": "code",
   "execution_count": null,
   "metadata": {},
   "outputs": [],
   "source": []
  },
  {
   "cell_type": "markdown",
   "metadata": {},
   "source": [
    "## Run"
   ]
  },
  {
   "cell_type": "code",
   "execution_count": null,
   "metadata": {},
   "outputs": [],
   "source": []
  },
  {
   "cell_type": "markdown",
   "metadata": {},
   "source": [
    "# NBSend_Recv_2 Fortran"
   ]
  },
  {
   "cell_type": "code",
   "execution_count": 16,
   "metadata": {},
   "outputs": [
    {
     "name": "stdout",
     "output_type": "stream",
     "text": [
      "Overwriting NBSend_Recv_2.for\n"
     ]
    }
   ],
   "source": [
    "%%writefile NBSend_Recv_2.for\n",
    "\n",
    "\n",
    "\n",
    "       Program size_rank\n",
    "\n",
    "         implicit none\n",
    "         include 'mpif.h'\n",
    "\n",
    "         INTEGER ierr,npes,myrank,namelen,i\n",
    "         INTEGER stat(MPI_STATUS_SIZE)\n",
    "         INTEGER request\n",
    "         CHARACTER*(MPI_MAX_PROCESSOR_NAME) processor_name\n",
    "         CHARACTER (MPI_MAX_PROCESSOR_NAME + 80) greeting\n",
    "C         INTEGER len = MPI_MAX_PROCESSOR_NAME + 80\n",
    "         CHARACTER(1) numb(0:9)\n",
    "         LOGICAL flag \n",
    "         \n",
    "         numb(0)=\"0\"\n",
    "         numb(1)=\"1\"\n",
    "         numb(2)=\"2\"\n",
    "         numb(3)=\"3\"\n",
    "         numb(4)=\"4\"\n",
    "         numb(5)=\"5\"\n",
    "         numb(6)=\"6\"\n",
    "         numb(7)=\"7\"\n",
    "         numb(8)=\"8\"\n",
    "         numb(9)=\"9\"\n",
    "  \n",
    "         call MPI_INIT( ierr )\n",
    "\n",
    "         call MPI_COMM_SIZE( MPI_COMM_WORLD, npes, ierr )\n",
    "         call MPI_COMM_RANK( MPI_COMM_WORLD, myrank, ierr )\n",
    "         call MPI_GET_PROCESSOR_NAME(processor_name,namelen,ierr)\n",
    "         \n",
    "         greeting = 'Hello Wold , From process '//numb(myrank)//\n",
    "     *' of '//numb(npes)//' on '//processor_name   \n",
    "         IF(myrank.EQ.0) THEN\n",
    "            print*, greeting \n",
    "            DO i = 1,  npes -1\n",
    "\n",
    "             call MPI_IRECV(greeting, len(greeting)+1,MPI_CHARACTER,i,1,\n",
    "     *                   MPI_COMM_WORLD,request,ierr)\n",
    "            \n",
    "             call MPI_WAIT(request,stat,ierr)\n",
    "             call MPI_TEST(request,flag,stat,ierr)\n",
    "             print*,greeting,\" & flag is: \",flag\n",
    "            END DO\n",
    "         ELSE\n",
    "            call MPI_ISEND(greeting,len(greeting)+1,MPI_CHARACTER,0,1,\n",
    "     *            MPI_COMM_WORLD,request,ierr)\n",
    "            call MPI_WAIT(request,stat,ierr)\n",
    "            call MPI_TEST(request,flag,stat,ierr)     \n",
    "         ENDIF\n",
    "         call MPI_FINALIZE(ierr)\n",
    "       End   "
   ]
  },
  {
   "cell_type": "markdown",
   "metadata": {},
   "source": [
    "## Compile"
   ]
  },
  {
   "cell_type": "code",
   "execution_count": null,
   "metadata": {},
   "outputs": [],
   "source": []
  },
  {
   "cell_type": "markdown",
   "metadata": {},
   "source": [
    "## Run"
   ]
  },
  {
   "cell_type": "code",
   "execution_count": null,
   "metadata": {},
   "outputs": [],
   "source": []
  },
  {
   "cell_type": "markdown",
   "metadata": {},
   "source": [
    "# NBSend_Recv_3 CPP"
   ]
  },
  {
   "cell_type": "code",
   "execution_count": 17,
   "metadata": {},
   "outputs": [
    {
     "name": "stdout",
     "output_type": "stream",
     "text": [
      "Writing NBSend_Recv_3.cpp\n"
     ]
    }
   ],
   "source": [
    "%%writefile NBSend_Recv_3.cpp\n",
    "\n",
    "\n",
    "#include <stdio.h>\n",
    "#include <mpi.h>\n",
    "#include <iostream.h>\n",
    "#define np 8\n",
    "\n",
    "int main(int argc, char *argv[])\n",
    "{\n",
    "  int npes, myrank, i, j;\n",
    "  int a[np+2][np+2];\n",
    "  int left, right;\n",
    "  MPI_Status stat[4];\n",
    "  MPI_Request request[4];\n",
    "  MPI_Init(&argc, &argv);\n",
    "  MPI_Comm_size(MPI_COMM_WORLD, &npes);\n",
    "  MPI_Comm_rank(MPI_COMM_WORLD, &myrank);\n",
    " \n",
    "  for(j =0; j<= np+1; j++){\n",
    "\t  for(i=0; i<= np+1; i++)\n",
    "\t\t  a[i][j] = myrank*100+10*j+i;\n",
    "  }\n",
    "  \n",
    "  left = myrank - 1;\n",
    "  right= myrank + 1;\n",
    "  \n",
    "  if(myrank == 1 ) left = npes -1 ;\n",
    "  if(myrank == (npes-1)) right = 1;\n",
    "  \n",
    "if (myrank != 0 ) {\n",
    "\t//communication with left processor\n",
    "\tMPI_Isend(&a[1][0],np+2,MPI_INT,left,1,MPI_COMM_WORLD,&request[0]);\n",
    "\tMPI_Irecv(&a[0][0],np+2,MPI_INT,left,1,MPI_COMM_WORLD,&request[1]);\n",
    "        //communication with right processor\n",
    "\tMPI_Isend(&a[np][0],np+2,MPI_INT,right,1,MPI_COMM_WORLD,&request[2]);\n",
    "\tMPI_Irecv(&a[np+1][0],np+2,MPI_INT,right,1,MPI_COMM_WORLD,&request[3]);\n",
    "//        MPI_Waitall(4,request,stat);\n",
    "\n",
    "\tfor(i = 0; i < npes; i++)\n",
    "\t\tMPI_Wait(&request[i],&stat[i]);\n",
    "}\n",
    "\n",
    "cout<<\" This is node: \"<<myrank<<'\\n';\n",
    "  for(j=0; j<=np+1; j++){\n",
    "       for(i=0; i<=np+1; i++){\n",
    "            cout<<a[i][j]<<\" \";\n",
    "       }\n",
    "       cout<<'\\n';       \n",
    "  }\n",
    "\n",
    "  MPI_Finalize();\n",
    "  return 0;\n",
    "}"
   ]
  },
  {
   "cell_type": "markdown",
   "metadata": {},
   "source": [
    "## Compile"
   ]
  },
  {
   "cell_type": "code",
   "execution_count": null,
   "metadata": {},
   "outputs": [],
   "source": []
  },
  {
   "cell_type": "markdown",
   "metadata": {},
   "source": [
    "## Run"
   ]
  },
  {
   "cell_type": "code",
   "execution_count": null,
   "metadata": {},
   "outputs": [],
   "source": []
  },
  {
   "cell_type": "markdown",
   "metadata": {},
   "source": [
    "# NBSend_Recv_3 Fortran"
   ]
  },
  {
   "cell_type": "code",
   "execution_count": 27,
   "metadata": {},
   "outputs": [
    {
     "name": "stdout",
     "output_type": "stream",
     "text": [
      "Overwriting NBSend_Recv_3.for\n"
     ]
    }
   ],
   "source": [
    "%%writefile NBSend_Recv_3.for\n",
    "\n",
    "\n",
    "       Program size_rank\n",
    "\n",
    "         implicit none\n",
    "         include 'mpif.h'\n",
    "         INTEGER np\n",
    "         PARAMETER(np = 8)\n",
    "         INTEGER ierr,npes,myrank,i,j\n",
    "         INTEGER a(0:np+1,0:np+1)\n",
    "         INTEGER left, right\n",
    "         INTEGER request(4) \n",
    "         INTEGER stat(MPI_STATUS_SIZE,4)\n",
    "           \n",
    "         call MPI_INIT( ierr )\n",
    "         call MPI_COMM_SIZE( MPI_COMM_WORLD, npes, ierr )\n",
    "         call MPI_COMM_RANK( MPI_COMM_WORLD, myrank, ierr )\n",
    "\n",
    "         DO j = 0, np+1\n",
    "             DO i = 0, np+1\n",
    "                a(i,j) = myrank*100+i*10+j\n",
    "             END DO\n",
    "         END DO\n",
    "\n",
    "         left = myrank - 1\n",
    "         right = myrank +1 \n",
    "         IF(myrank.EQ.1) left = npes-1\n",
    "         IF(myrank.EQ.(npes -1)) right = 1\n",
    "\n",
    "         IF(myrank.NE.0) THEN\n",
    "c communication with left processor\n",
    "\n",
    "       call MPI_ISEND(a(0,1),np+2,MPI_INTEGER,left,1,\n",
    "     *            MPI_COMM_WORLD,request(1),ierr)\n",
    "       call MPI_IRECV(a(0,0),np+2,MPI_INTEGER,left,1,\n",
    "     *                   MPI_COMM_WORLD,request(2),ierr)\n",
    "c communication with right processor\n",
    "       call MPI_ISEND(a(0,np),np+2,MPI_INTEGER,right,1,\n",
    "     *            MPI_COMM_WORLD,request(3),ierr)\n",
    "       call MPI_IRECV(a(0,np+1),np+2,MPI_INTEGER,right,1,\n",
    "     *                   MPI_COMM_WORLD,request(4),ierr)\n",
    "       call MPI_WAITALL(4,request,stat,ierr) \n",
    "         END IF\n",
    "\n",
    "         PRINT*,\"This is node: \",myrank  \n",
    "         DO i = 0,  np+1\n",
    "              WRITE(*,*)(a(i,j), j=0,np+1)\n",
    "         END DO\n",
    "        call MPI_FINALIZE(ierr)\n",
    "       End   \n",
    "\n"
   ]
  },
  {
   "cell_type": "markdown",
   "metadata": {},
   "source": [
    "## Compile"
   ]
  },
  {
   "cell_type": "code",
   "execution_count": null,
   "metadata": {},
   "outputs": [],
   "source": []
  },
  {
   "cell_type": "markdown",
   "metadata": {},
   "source": [
    "## Run"
   ]
  },
  {
   "cell_type": "code",
   "execution_count": null,
   "metadata": {},
   "outputs": [],
   "source": []
  },
  {
   "cell_type": "markdown",
   "metadata": {},
   "source": [
    "# size_rank Cpp"
   ]
  },
  {
   "cell_type": "code",
   "execution_count": 29,
   "metadata": {},
   "outputs": [
    {
     "name": "stdout",
     "output_type": "stream",
     "text": [
      "Writing size_rank.cpp\n"
     ]
    }
   ],
   "source": [
    "%%writefile size_rank.cpp\n",
    "\n",
    "#include <iostream.h>\n",
    "#include <mpi.h>\n",
    "\n",
    "int main(int argc, char **argv)\n",
    "{\n",
    "  int npes, myrank;\n",
    "  MPI_Init(&argc, &argv);\n",
    "\n",
    "  MPI_Comm_size(MPI_COMM_WORLD, &npes);\n",
    "  MPI_Comm_rank(MPI_COMM_WORLD, &myrank);\n",
    "\n",
    "  cout<<\"HI There, I am node \"<<myrank<<\"  and the total worker\"\n",
    "\t  <<\" which you are using now is: \"<<npes<<'\\n';\n",
    "\n",
    "  MPI_Finalize();\n",
    "  return 0;\n",
    "}\n"
   ]
  },
  {
   "cell_type": "markdown",
   "metadata": {},
   "source": [
    "## Complie"
   ]
  },
  {
   "cell_type": "code",
   "execution_count": null,
   "metadata": {},
   "outputs": [],
   "source": []
  },
  {
   "cell_type": "markdown",
   "metadata": {},
   "source": [
    "## Run"
   ]
  },
  {
   "cell_type": "code",
   "execution_count": null,
   "metadata": {},
   "outputs": [],
   "source": []
  },
  {
   "cell_type": "markdown",
   "metadata": {},
   "source": [
    "# size_rank Fortran"
   ]
  },
  {
   "cell_type": "code",
   "execution_count": 22,
   "metadata": {},
   "outputs": [
    {
     "name": "stdout",
     "output_type": "stream",
     "text": [
      "Writing size_rank.for\n"
     ]
    }
   ],
   "source": [
    "%%writefile size_rank.for\n",
    "\n",
    "       Program size_rank\n",
    "\n",
    "         implicit none\n",
    "         include 'mpif.h'\n",
    "         integer ierr,npes,myrank\n",
    "         call MPI_INIT( ierr )\n",
    "\n",
    "         call MPI_COMM_SIZE( MPI_COMM_WORLD, npes, ierr )\n",
    "         call MPI_COMM_RANK( MPI_COMM_WORLD, myrank, ierr )\n",
    "\n",
    "         print*,\"HI There, I am node \",myrank,\" and the total\",\n",
    "     *\"number of workers which you are using now is: \",npes\n",
    "\n",
    "         call MPI_FINALIZE(ierr)\n",
    "       End"
   ]
  },
  {
   "cell_type": "markdown",
   "metadata": {},
   "source": [
    "## Compile"
   ]
  },
  {
   "cell_type": "code",
   "execution_count": null,
   "metadata": {},
   "outputs": [],
   "source": []
  },
  {
   "cell_type": "markdown",
   "metadata": {},
   "source": [
    "## Run"
   ]
  },
  {
   "cell_type": "code",
   "execution_count": null,
   "metadata": {},
   "outputs": [],
   "source": []
  },
  {
   "cell_type": "markdown",
   "metadata": {},
   "source": [
    "# Extra C codes"
   ]
  },
  {
   "cell_type": "markdown",
   "metadata": {},
   "source": [
    "## Model.cpp"
   ]
  },
  {
   "cell_type": "code",
   "execution_count": 35,
   "metadata": {},
   "outputs": [
    {
     "name": "stdout",
     "output_type": "stream",
     "text": [
      "Writing Model.cpp\n"
     ]
    }
   ],
   "source": [
    "%%writefile Model.cpp\n",
    "\n",
    "#include <stdio.h>\n",
    "#include <mpi.h>\n",
    "#include <iostream.h>\n",
    "#define npp 8\n",
    "\n",
    "int main(int argc, char *argv[])\n",
    "{\n",
    "  int npes, myrank, i, j, k;\n",
    "  int nx, ny;\n",
    "  int left, right;\n",
    "  MPI_Status statn,stat[4];\n",
    "  MPI_Request request[4];\n",
    "  MPI_Init(&argc, &argv);\n",
    "  MPI_Comm_size(MPI_COMM_WORLD, &npes);\n",
    "  MPI_Comm_rank(MPI_COMM_WORLD, &myrank);\n",
    "\n",
    "  nx = npp/(npes-1);\n",
    "  ny = npp;\n",
    "  int a[nx+2][ny+2];\n",
    "\n",
    "  for(j =0; j<= ny+1; j++){\n",
    "\t  for(i=0; i<= nx+1; i++)\n",
    "\t\t  a[i][j] = myrank*100+10*j+i;\n",
    "  }\n",
    "  \n",
    "  left = myrank - 1;\n",
    "  right= myrank + 1;\n",
    "  \n",
    "  if(myrank == 1 ) left = npes -1 ;\n",
    "  if(myrank == (npes-1)) right = 1;\n",
    "  \n",
    "if (myrank != 0 ) {\n",
    "\n",
    "\t for(i=0; i<=nx+1; i++){\n",
    "\t\ta[i][0] = a[i][ny];\n",
    "\t\ta[i][ny+1]=a[i][1];\n",
    "\t}\n",
    "\n",
    "\n",
    "\n",
    "\n",
    "\t//communication with left processor\n",
    "\tMPI_Isend(&a[1][0],ny+2,MPI_INT,left,1,MPI_COMM_WORLD,&request[0]);\n",
    "\tMPI_Irecv(&a[0][0],ny+2,MPI_INT,left,1,MPI_COMM_WORLD,&request[1]);\n",
    "        //communication with right processor\n",
    "\tMPI_Isend(&a[nx][0],ny+2,MPI_INT,right,1,MPI_COMM_WORLD,&request[2]);\n",
    "\tMPI_Irecv(&a[nx+1][0],ny+2,MPI_INT,right,1,MPI_COMM_WORLD,&request[3]);\n",
    "        MPI_Waitall(4,request,stat);\n",
    "\n",
    "//\tfor(i = 0; i < npes; i++)\n",
    "//\t\tMPI_Wait(&request[i],&stat[i]);\n",
    "\n",
    "\t\tMPI_Send(&a[0][0],(nx+2)*(ny+2),MPI_INT,0,1,MPI_COMM_WORLD);\n",
    "}\n",
    "if(myrank==0){  \n",
    "\tfor(k=1; k<=npes-1; k++){\n",
    "\t\tMPI_Recv(&a[0][0],(nx+2)*(ny+2),MPI_INT,k,1,MPI_COMM_WORLD,&statn);\n",
    "\t\tcout<<\" this is node: \"<<myrank<<\" I've received data from node:  \"<<k<<'\\n';\n",
    "\t\t  for(j=0; j<=ny+1; j++){\n",
    "\t\t       for(i=0; i<=nx+1; i++){\n",
    "\t\t            cout<<a[i][j]<<\" \";\n",
    "\t\t       }\n",
    "\t\t       cout<<'\\n';       \n",
    "\t\t  }\n",
    "\t}//k\n",
    "}//if\n",
    "\n",
    "  MPI_Finalize();\n",
    "  return 0;\n",
    "}\n"
   ]
  },
  {
   "cell_type": "markdown",
   "metadata": {},
   "source": [
    "## Compile"
   ]
  },
  {
   "cell_type": "code",
   "execution_count": null,
   "metadata": {},
   "outputs": [],
   "source": []
  },
  {
   "cell_type": "markdown",
   "metadata": {},
   "source": [
    "## Run"
   ]
  },
  {
   "cell_type": "code",
   "execution_count": null,
   "metadata": {},
   "outputs": [],
   "source": []
  },
  {
   "cell_type": "markdown",
   "metadata": {},
   "source": [
    "##  Para_Temp.cpp"
   ]
  },
  {
   "cell_type": "code",
   "execution_count": 38,
   "metadata": {},
   "outputs": [
    {
     "name": "stdout",
     "output_type": "stream",
     "text": [
      "Writing Para_Temp.cpp\n"
     ]
    }
   ],
   "source": [
    "%%writefile Para_Temp.cpp\n",
    "\n",
    "\n",
    "#include <stdio.h>\n",
    "#include <iostream.h>\n",
    "#include <fstream.h>\n",
    "#include <math.h>\n",
    "#include <string.h>\n",
    "#include <mpi.h>                \n",
    "                  //--------<the system geometry>-----------------\n",
    "                  //    (0,0),,,,,,,,,,BC,,,,,,,,(0,n+1)\n",
    "                  //      , (1,1) ...........(1,n) ,\n",
    "                  //      ,   .                .   ,\n",
    "                  //      B   .                .   B\n",
    "                  //      C   .                .   C\n",
    "                  //      ,   .                .   ,\n",
    "                  //      ,   .                .   ,\n",
    "                  //      , (n,1)............(n,n) ,\n",
    "                  //  (n+1,0),,,,,,,,,BC,,,,,,,(n+1,n+1) \n",
    "                  //----------------------------------------------\n",
    "#define n_tot 64\n",
    "\n",
    "int main(int argc, char *argv[])\n",
    "{\n",
    "  int i, j, k, rk, nx, ny;\n",
    "  double t, dt, s, t_max;\n",
    "  char snp[20];\n",
    "  int npes, myrank;\n",
    "  int left, right;\n",
    "  MPI_Status statn, stat[4];\n",
    "  MPI_Request request[4];\n",
    "\n",
    "  MPI_Init(&argc, &argv);\n",
    "  MPI_Comm_size(MPI_COMM_WORLD, &npes);\n",
    "  MPI_Comm_rank(MPI_COMM_WORLD, &myrank);\n",
    " \n",
    "  nx = n_tot/(npes-1);\n",
    "  ny = n_tot;\n",
    "  double Told[nx+2][ny+2],Tnew[nx+2][ny+2],temp[n_tot+2][n_tot+2];\n",
    "\n",
    "//  if(myrank==0){\n",
    "\t  sprintf(snp, \"%s\", \"result/snapP.dat\");\n",
    "\t  ofstream outfile_snp(snp);\n",
    "//  }\n",
    "\n",
    "  left = myrank - 1;\n",
    "  right= myrank + 1;\n",
    "  \n",
    "  if(myrank == 1 ) left = npes -1 ;\n",
    "  if(myrank == (npes-1)) right = 1;\n",
    " \n",
    "  t_max = 100;\n",
    "  dt = 0.05;\n",
    "  s = dt;\n",
    "\n",
    "\n",
    "  for(j=0; j<=ny+1; j++)              //----------------------------------------  \n",
    "\tfor(i=0; i<=nx+1; i++)        // ----------<initial condition>----------\n",
    "\t\tTnew[i][j] = 0.;      //----------------------------------------  \n",
    "if(myrank==1) Tnew[2][ny/2+1]=100;          //----------------------------------------SHOULD BE CORRECT\n",
    "\n",
    "\n",
    "\n",
    "  t = 0.; \n",
    "  k = 0;\n",
    "\n",
    "  while(t<=t_max)\n",
    "  {\n",
    "\n",
    "  if(myrank!=0){\n",
    "\tfor (j=1; j<=ny; j++){\n",
    "\t\tfor(i=1; i<=nx; i++){\n",
    "\t\t\tTold[i][j] = Tnew[i][j];\n",
    "\t\t}\n",
    "\t}\n",
    "\n",
    "\t\n",
    "\n",
    "\n",
    "//---------------------------------------<Boandary Conditions Exchanges>---------------------------------\n",
    "\tfor(i=0; i<=nx+1; i++){ \n",
    "\t\tTold[i][0] = Tnew[i][ny];\n",
    "\t\tTold[i][ny+1]=Tnew[i][1]; \n",
    "\t}\n",
    "\n",
    "\t//communication with left processor\n",
    "\tMPI_Isend(&Tnew[1][0],ny+2,MPI_DOUBLE,left,1,MPI_COMM_WORLD,&request[0]);\n",
    "\tMPI_Irecv(&Told[0][0],ny+2,MPI_DOUBLE,left,1,MPI_COMM_WORLD,&request[1]);\n",
    "        //communication with right processor\n",
    "\tMPI_Isend(&Tnew[nx][0],ny+2,MPI_DOUBLE,right,1,MPI_COMM_WORLD,&request[2]);\n",
    "\tMPI_Irecv(&Told[nx+1][0],ny+2,MPI_DOUBLE,right,1,MPI_COMM_WORLD,&request[3]);\n",
    "        MPI_Waitall(4,request,stat);\n",
    "//------------------------------------------------------------------------------------------------------\n",
    "\n",
    "\tfor (j=1; j<=ny; j++){\n",
    "\t\tfor(i=1; i<=nx; i++){\n",
    "\t\t\tTnew[i][j]=s*(Told[i][j+1]+Told[i][j-1]+Told[i+1][j]+Told[i-1][j])+(1.-4.*s)*Told[i][j];\n",
    "\t\t}\n",
    "\t}\n",
    "  }//parallel if\n",
    "\n",
    "\tt += dt;\n",
    "\tk++;\n",
    "\n",
    "\tif(k%100==0){\n",
    "\t\tif(myrank!=0){\n",
    "\t\t\tMPI_Send(&Tnew[0][0],(nx+2)*(ny+2),MPI_DOUBLE,0,1,MPI_COMM_WORLD);\n",
    "\t\t}else{\n",
    "\t\t\tfor(rk=1; rk<=npes-1; rk++){\n",
    "\t\t\t\tMPI_Recv(&Tnew[0][0],(nx+2)*(ny+2),MPI_DOUBLE,rk,1,MPI_COMM_WORLD,&statn);\n",
    "\n",
    "\t\t\t\tfor(j=1; j<=ny; j++)\n",
    "\t\t\t\t\tfor(i=1; i<=nx; i++)\n",
    "\t\t\t\t\t\ttemp[nx*(rk-1)+i][j]=Tnew[i][j];\n",
    "\t\t\t}\n",
    "\t\t\t\t\n",
    "\t\t\tfor (j=1; j<=n_tot; j++){\n",
    "\t\t\t\tfor(i=1; i<=n_tot; i++){\n",
    "\t\t\t\t\toutfile_snp<<i<<\"  \"<<j<<\"  \"<<temp[i][j]<<endl;\n",
    "\t\t\t\t}\n",
    "\t\t\t}\n",
    "\t\t\t\n",
    "\t\t}\n",
    "\n",
    "\t}\n",
    "\n",
    "\n",
    "  }//while\n",
    "\n",
    "  MPI_Finalize();\n",
    "\n",
    "\n",
    "}\n"
   ]
  },
  {
   "cell_type": "markdown",
   "metadata": {},
   "source": [
    "## compile"
   ]
  },
  {
   "cell_type": "code",
   "execution_count": null,
   "metadata": {},
   "outputs": [],
   "source": []
  },
  {
   "cell_type": "markdown",
   "metadata": {},
   "source": [
    "### Run"
   ]
  },
  {
   "cell_type": "markdown",
   "metadata": {},
   "source": [
    "## temp.cpp"
   ]
  },
  {
   "cell_type": "code",
   "execution_count": 40,
   "metadata": {},
   "outputs": [
    {
     "name": "stdout",
     "output_type": "stream",
     "text": [
      "Writing temp.cpp\n"
     ]
    }
   ],
   "source": [
    "%%writefile temp.cpp\n",
    "\n",
    "#include <stdio.h>\n",
    "#include <iostream.h>\n",
    "#include <fstream.h>\n",
    "#include <math.h>\n",
    "#include <string.h>\n",
    "                 \n",
    "                  //--------<the system geometry>-----------------\n",
    "                  //    (0,0),,,,,,,,,,BC,,,,,,,,(0,n+1)\n",
    "                  //      , (1,1) ...........(1,n) ,\n",
    "                  //      ,   .                .   ,\n",
    "                  //      B   .                .   B\n",
    "                  //      C   .                .   C\n",
    "                  //      ,   .                .   ,\n",
    "                  //      ,   .                .   ,\n",
    "                  //      , (n,1)............(n,n) ,\n",
    "                  //  (n+1,0),,,,,,,,,BC,,,,,,,(n+1,n+1) \n",
    "                  //----------------------------------------------\n",
    "#define n_tot 64\n",
    "\n",
    "int main(int argc, char *argv[])\n",
    "{\n",
    "  int i, j, k, nx, ny;\n",
    "  nx = n_tot;\n",
    "  ny = n_tot;\n",
    "  double Told[nx+2][ny+2],Tnew[nx+2][ny+2];\n",
    "  double t, dt, s, t_max;\n",
    "  char snp[20];\n",
    "\n",
    "\n",
    "  sprintf(snp, \"%s\", \"result/snap.dat\");\n",
    "  ofstream outfile_snp(snp);\n",
    "\n",
    "  t_max = 100;\n",
    "  dt = 0.05;\n",
    "  s = dt;\n",
    "\n",
    "\n",
    "  for(j=0; j<=ny+1; j++)              //----------------------------------------  \n",
    "\tfor(i=0; i<=nx+1; i++)        // ----------<initial condition>----------\n",
    "\t\tTnew[i][j] = 0.;      //----------------------------------------  \n",
    "  Tnew[nx/2+1][2]=100;           //----------------------------------------\n",
    "\n",
    "  t = 0.; \n",
    "  k = 0;\n",
    "\n",
    "  while(t<=t_max)\n",
    "  {\n",
    "\tfor (j=1; j<=ny; j++){\n",
    "\t\tfor(i=1; i<=nx; i++){\n",
    "\t\t\tTold[i][j] = Tnew[i][j];\n",
    "\t\t}\n",
    "\t}\n",
    "\n",
    "\t\n",
    "\tfor(j=0; j<=ny+1; j++){\n",
    "\t\tTold[0][j] = Tnew[nx][j];    //---------------------------------------\n",
    "\t\tTold[nx+1][j]=Tnew[1][j];    //---------------------------------------\n",
    "\t}\t\t\t             //----------<Boandary Conditions>--------\n",
    "\tfor(i=0; i<=nx+1; i++){ \t     //---------------------------------------\n",
    "\t\tTold[i][0] = Tnew[i][ny];    //---------------------------------------\n",
    "\t\tTold[i][ny+1]=Tnew[i][1];    //---------------------------------------\n",
    "\t}\n",
    "\n",
    "\tfor (j=1; j<=ny; j++){\n",
    "\t\tfor(i=1; i<=nx; i++){\n",
    "\t\t\tTnew[i][j]=s*(Told[i][j+1]+Told[i][j-1]+Told[i+1][j]+Told[i-1][j])+(1.-4.*s)*Told[i][j];\n",
    "\t\t}\n",
    "\t}\n",
    "\n",
    "\tt += dt;\n",
    "\tk++;\n",
    "\n",
    "\tif(k%100==0){\n",
    "\t\tfor (j=1; j<=ny; j++){\n",
    "\t\t\tfor(i=1; i<=nx; i++){\n",
    "\t\t\t\toutfile_snp<<i<<\"  \"<<j<<\"  \"<<Tnew[i][j]<<endl;\n",
    "\t\t\t}\n",
    "\t\t}\n",
    "\n",
    "\t}\t\n",
    "  }//while\n",
    "cout<<k<<endl;\n",
    "}\n"
   ]
  },
  {
   "cell_type": "markdown",
   "metadata": {},
   "source": [
    "## Compile"
   ]
  },
  {
   "cell_type": "code",
   "execution_count": null,
   "metadata": {},
   "outputs": [],
   "source": []
  },
  {
   "cell_type": "markdown",
   "metadata": {},
   "source": [
    "## Run"
   ]
  },
  {
   "cell_type": "code",
   "execution_count": null,
   "metadata": {},
   "outputs": [],
   "source": []
  }
 ],
 "metadata": {
  "kernelspec": {
   "display_name": "Python 3",
   "language": "python",
   "name": "python3"
  },
  "language_info": {
   "codemirror_mode": {
    "name": "ipython",
    "version": 3
   },
   "file_extension": ".py",
   "mimetype": "text/x-python",
   "name": "python",
   "nbconvert_exporter": "python",
   "pygments_lexer": "ipython3",
   "version": "3.8.10"
  }
 },
 "nbformat": 4,
 "nbformat_minor": 4
}
