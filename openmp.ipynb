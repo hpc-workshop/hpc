{
 "cells": [
  {
   "cell_type": "markdown",
   "metadata": {},
   "source": [
    "# omp_getEnvInfo C"
   ]
  },
  {
   "cell_type": "code",
   "execution_count": 23,
   "metadata": {},
   "outputs": [
    {
     "name": "stdout",
     "output_type": "stream",
     "text": [
      "Overwriting omp_getEnvInfo.c\n"
     ]
    }
   ],
   "source": [
    "%%writefile omp_getEnvInfo.c\n",
    "\n",
    "/******************************************************************************\n",
    "* FILE: omp_getEnvInfo.c\n",
    "* DESCRIPTION:\n",
    "*   OpenMP Example - Get Environment Information - C/C++ Version\n",
    "*   The master thread queries and prints selected environment information.\n",
    "* AUTHOR: Blaise Barney  7/06\n",
    "* LAST REVISED: 07/12/06\n",
    "******************************************************************************/\n",
    "\n",
    "#include <omp.h>\n",
    "#include <stdio.h>\n",
    "#include <stdlib.h>\n",
    "\n",
    "int main (int argc, char *argv[]) \n",
    "{\n",
    "int nthreads, tid, procs, maxt, inpar, dynamic, nested;\n",
    "\n",
    "/* Start parallel region */\n",
    "#pragma omp parallel private(nthreads, tid)\n",
    "  {\n",
    "\n",
    "  /* Obtain thread number */\n",
    "  tid = omp_get_thread_num();\n",
    "\n",
    "  /* Only master thread does this */\n",
    "  if (tid == 0) \n",
    "    {\n",
    "    printf(\"Thread %d getting environment info...\\n\", tid);\n",
    "\n",
    "    /* Get environment information */\n",
    "    procs = omp_get_num_procs();\n",
    "    nthreads = omp_get_num_threads();\n",
    "    maxt = omp_get_max_threads();\n",
    "    inpar = omp_in_parallel();\n",
    "    dynamic = omp_get_dynamic();\n",
    "    nested = omp_get_nested();\n",
    "\n",
    "    /* Print environment information */\n",
    "    printf(\"Number of processors = %d\\n\", procs);\n",
    "    printf(\"Number of threads = %d\\n\", nthreads);\n",
    "    printf(\"Max threads = %d\\n\", maxt);\n",
    "    printf(\"In parallel? = %d\\n\", inpar);\n",
    "    printf(\"Dynamic threads enabled? = %d\\n\", dynamic);\n",
    "    printf(\"Nested parallelism supported? = %d\\n\", nested);\n",
    "\n",
    "    }\n",
    "\n",
    "  }  /* Done */\n",
    "\n",
    "}"
   ]
  },
  {
   "cell_type": "markdown",
   "metadata": {},
   "source": [
    "## Compile"
   ]
  },
  {
   "cell_type": "code",
   "execution_count": 5,
   "metadata": {},
   "outputs": [],
   "source": [
    "!gcc -o omp_getEnvInfo omp_getEnvInfo.c  -fopenmp"
   ]
  },
  {
   "cell_type": "markdown",
   "metadata": {},
   "source": [
    "## Run"
   ]
  },
  {
   "cell_type": "code",
   "execution_count": 6,
   "metadata": {},
   "outputs": [
    {
     "name": "stdout",
     "output_type": "stream",
     "text": [
      "Thread 0 getting environment info...\r\n",
      "Number of processors = 4\r\n",
      "Number of threads = 4\r\n",
      "Max threads = 4\r\n",
      "In parallel? = 1\r\n",
      "Dynamic threads enabled? = 0\r\n",
      "Nested parallelism supported? = 0\r\n"
     ]
    }
   ],
   "source": [
    "!./omp_getEnvInfo"
   ]
  },
  {
   "cell_type": "markdown",
   "metadata": {},
   "source": [
    "# omp_getEnvInfo Fortran"
   ]
  },
  {
   "cell_type": "code",
   "execution_count": 24,
   "metadata": {},
   "outputs": [
    {
     "name": "stdout",
     "output_type": "stream",
     "text": [
      "Overwriting omp_getEnvInfo.f\n"
     ]
    }
   ],
   "source": [
    "%%writefile omp_getEnvInfo.f\n",
    "\n",
    "C******************************************************************************\n",
    "C FILE: omp_getEnvInfo.f\n",
    "C DESCRIPTION:\n",
    "C   OpenMP Example - Get Environment Information - Fortran Version\n",
    "C   The master thread queries and prints selected environment information.\n",
    "C AUTHOR: Blaise Barney  7/06\n",
    "C LAST REVISED: 07/12/06\n",
    "C******************************************************************************\n",
    "\n",
    "      PROGRAM GETINFO\n",
    "     \n",
    "      INTEGER NTHREADS, TID, OMP_GET_NUM_THREADS,\n",
    "     +  OMP_GET_THREAD_NUM, OMP_GET_NUM_PROCS, OMP_GET_MAX_THREADS,\n",
    "     +  OMP_IN_PARALLEL, OMP_GET_DYNAMIC, OMP_GET_NESTED,\n",
    "     +  PROCS, MAXT\n",
    "\n",
    "C     These are for AIX compilations\n",
    "      INTEGER INPAR, DYNAMIC, NESTED\n",
    "C     These are for non-AIX compilations\n",
    "C     LOGICAL INPAR, DYNAMIC, NESTED\n",
    "  \n",
    "C     Start parallel region\n",
    "!$OMP PARALLEL PRIVATE(NTHREADS, TID)\n",
    "\n",
    "C     Obtain thread number\n",
    "      TID = OMP_GET_THREAD_NUM()\n",
    "\n",
    "C     Only master thread does this\n",
    "      IF (TID .EQ. 0) THEN\n",
    "\n",
    "        PRINT *, 'Thread',tid,'getting environment information'\n",
    "\n",
    "C     Get environment information\n",
    "        PROCS = OMP_GET_NUM_PROCS() \n",
    "        NTHREADS = OMP_GET_NUM_THREADS()\n",
    "        MAXT = OMP_GET_MAX_THREADS()\n",
    "        INPAR = OMP_IN_PARALLEL()\n",
    "        DYNAMIC = OMP_GET_DYNAMIC()\n",
    "        NESTED = OMP_GET_NESTED()\n",
    "\n",
    "C     Print environment information\n",
    "    \n",
    "        PRINT *, 'Number of processors = ', PROCS\n",
    "        PRINT *, 'Number of threads = ', NTHREADS\n",
    "        PRINT *, 'Max threads = ', MAXT\n",
    "        PRINT *, 'In parallel? = ', INPAR\n",
    "        PRINT *, 'Dynamic threads enabled? = ', DYNAMIC\n",
    "        PRINT *, 'Nested parallelism supported? = ', NESTED\n",
    "\n",
    "      END IF\n",
    "\n",
    "C     Done\n",
    "!$OMP END PARALLEL\n",
    "\n",
    "      END"
   ]
  },
  {
   "cell_type": "markdown",
   "metadata": {},
   "source": [
    "## Compile"
   ]
  },
  {
   "cell_type": "code",
   "execution_count": null,
   "metadata": {},
   "outputs": [],
   "source": []
  },
  {
   "cell_type": "markdown",
   "metadata": {},
   "source": [
    "## Run"
   ]
  },
  {
   "cell_type": "code",
   "execution_count": null,
   "metadata": {},
   "outputs": [],
   "source": []
  },
  {
   "cell_type": "markdown",
   "metadata": {},
   "source": [
    "# omp_hello C"
   ]
  },
  {
   "cell_type": "code",
   "execution_count": 25,
   "metadata": {},
   "outputs": [
    {
     "name": "stdout",
     "output_type": "stream",
     "text": [
      "Overwriting omp_hello.c\n"
     ]
    }
   ],
   "source": [
    "%%writefile omp_hello.c\n",
    "\n",
    "/******************************************************************************\n",
    "* FILE: omp_hello.c\n",
    "* DESCRIPTION:\n",
    "*   OpenMP Example - Hello World - C/C++ Version\n",
    "*   In this simple example, the master thread forks a parallel region.\n",
    "*   All threads in the team obtain their unique thread number and print it.\n",
    "*   The master thread only prints the total number of threads.  Two OpenMP\n",
    "*   library routines are used to obtain the number of threads and each\n",
    "*   thread's number.\n",
    "* AUTHOR: Blaise Barney  5/99\n",
    "* LAST REVISED: 04/06/05\n",
    "******************************************************************************/\n",
    "#include <omp.h>\n",
    "#include <stdio.h>\n",
    "#include <stdlib.h>\n",
    "\n",
    "int main (int argc, char *argv[]) {\n",
    "\n",
    "int nthreads, tid;\n",
    "\n",
    "/* Fork a team of threads giving them their own copies of variables */\n",
    "#pragma omp parallel private(nthreads, tid)\n",
    "  {\n",
    "\n",
    "  /* Obtain thread number */\n",
    "  tid = omp_get_thread_num();\n",
    "  printf(\"Hello World from thread = %d\\n\", tid);\n",
    "\n",
    "  /* Only master thread does this */\n",
    "  if (tid == 0) \n",
    "    {\n",
    "    nthreads = omp_get_num_threads();\n",
    "    printf(\"Number of threads = %d\\n\", nthreads);\n",
    "    }\n",
    "\n",
    "  }  /* All threads join master thread and disband */\n",
    "\n",
    "}\n"
   ]
  },
  {
   "cell_type": "markdown",
   "metadata": {},
   "source": [
    "# omp_hello Fortran"
   ]
  },
  {
   "cell_type": "code",
   "execution_count": 26,
   "metadata": {},
   "outputs": [
    {
     "name": "stdout",
     "output_type": "stream",
     "text": [
      "Overwriting omp_hello.f\n"
     ]
    }
   ],
   "source": [
    "%%writefile omp_hello.f\n",
    "\n",
    "C******************************************************************************\n",
    "C FILE: omp_hello.f\n",
    "C DESCRIPTION:\n",
    "C   OpenMP Example - Hello World - Fortran Version\n",
    "C   In this simple example, the master thread forks a parallel region.\n",
    "C   All threads in the team obtain their unique thread number and print it.\n",
    "C   The master thread only prints the total number of threads.  Two OpenMP\n",
    "C   library routines are used to obtain the number of threads and each\n",
    "C   thread's number.\n",
    "C AUTHOR: Blaise Barney  5/99\n",
    "C LAST REVISED: \n",
    "C******************************************************************************\n",
    "\n",
    "      PROGRAM HELLO\n",
    "     \n",
    "      INTEGER NTHREADS, TID, OMP_GET_NUM_THREADS,\n",
    "     +        OMP_GET_THREAD_NUM\n",
    "  \n",
    "C     Fork a team of threads giving them their own copies of variables\n",
    "!$OMP PARALLEL PRIVATE(NTHREADS, TID)\n",
    "\n",
    "\n",
    "C     Obtain thread number\n",
    "      TID = OMP_GET_THREAD_NUM()\n",
    "      PRINT *, 'Hello World from thread = ', TID\n",
    "\n",
    "C     Only master thread does this\n",
    "      IF (TID .EQ. 0) THEN\n",
    "        NTHREADS = OMP_GET_NUM_THREADS()\n",
    "        PRINT *, 'Number of threads = ', NTHREADS\n",
    "      END IF\n",
    "\n",
    "C     All threads join master thread and disband\n",
    "!$OMP END PARALLEL\n",
    "\n",
    "      END\n"
   ]
  },
  {
   "cell_type": "markdown",
   "metadata": {},
   "source": [
    "## Compile"
   ]
  },
  {
   "cell_type": "code",
   "execution_count": null,
   "metadata": {},
   "outputs": [],
   "source": []
  },
  {
   "cell_type": "markdown",
   "metadata": {},
   "source": [
    "## Run"
   ]
  },
  {
   "cell_type": "code",
   "execution_count": null,
   "metadata": {},
   "outputs": [],
   "source": []
  },
  {
   "cell_type": "markdown",
   "metadata": {},
   "source": [
    "# omp_mm C"
   ]
  },
  {
   "cell_type": "code",
   "execution_count": 27,
   "metadata": {},
   "outputs": [
    {
     "name": "stdout",
     "output_type": "stream",
     "text": [
      "Overwriting omp_mm.c\n"
     ]
    }
   ],
   "source": [
    "%%writefile omp_mm.c\n",
    "\n",
    "\n",
    "/******************************************************************************\n",
    "* FILE: omp_mm.c\n",
    "* DESCRIPTION:  \n",
    "*   OpenMp Example - Matrix Multiply - C Version\n",
    "*   Demonstrates a matrix multiply using OpenMP. Threads share row iterations\n",
    "*   according to a predefined chunk size.\n",
    "* AUTHOR: Blaise Barney\n",
    "* LAST REVISED: 06/28/05\n",
    "******************************************************************************/\n",
    "#include <omp.h>\n",
    "#include <stdio.h>\n",
    "#include <stdlib.h>\n",
    "#include <time.h>\n",
    "\n",
    "#define NRA 6200                 /* number of rows in matrix A */\n",
    "#define NCA 1500                 /* number of columns in matrix A */\n",
    "#define NCB 700                  /* number of columns in matrix B */\n",
    "\n",
    "main () \n",
    "{\n",
    "  int tid, nthreads, i, j, k, chunk;\n",
    "\n",
    "  double *a,*b,*c;\n",
    "  double t1,t2;\t\n",
    "  time_t wt1,wt2;\n",
    "\n",
    "  a=(double *)malloc(NRA*NCA*sizeof(double)); /* matrix A to be multiplied */\n",
    "  b=(double *)malloc(NCA*NCB*sizeof(double)); /* matrix B to be multiplied */\n",
    "  c=(double *)malloc(NRA*NCB*sizeof(double)); /* result matrix C */\n",
    "\n",
    "  chunk = 10; /* set loop iteration chunk size */\n",
    "\n",
    "  t1=(double)clock()/(double)CLOCKS_PER_SEC;\n",
    "  time(&wt1);\n",
    "\n",
    "  /*** Spawn a parallel region explicitly scoping all variables ***/\n",
    "#pragma omp parallel shared(a,b,c,nthreads,chunk) private(tid,i,j,k)\n",
    "  {\n",
    "  tid = omp_get_thread_num();\n",
    "  if (tid == 0){\n",
    "    nthreads = omp_get_num_threads();\n",
    "    printf(\"Starting matrix multiple example with %d thread(s)\\n\",nthreads);\n",
    "    printf(\"Initializing matrices...\\n\");\n",
    "  }\n",
    "\t\n",
    "  /*** Initialize matrices ***/\n",
    "#pragma omp for schedule (static, chunk) \n",
    "  for (i=0; i<NRA; i++)\n",
    "    for (j=0; j<NCA; j++)\n",
    "      a[j+NCA*i]= i+j;\n",
    "#pragma omp for schedule (static, chunk)\n",
    "  for (i=0; i<NCA; i++)\n",
    "    for (j=0; j<NCB; j++)\n",
    "      b[j+NCB*i]= i*j;\n",
    "#pragma omp for schedule (static, chunk)\n",
    "  for (i=0; i<NRA; i++)\n",
    "    for (j=0; j<NCB; j++)\n",
    "      c[j+NCB*i]= 0;\n",
    "\n",
    "  /*if (tid == 0){\n",
    "  \tt2=(double)clock()/(double)CLOCKS_PER_SEC;\n",
    "\tprintf(\"Initialization CPUtime %5.2fs\\n\",t2-t1);\n",
    "\ttime(&wt2);\n",
    "        printf(\"Initialization WallClockTime %fs\\n\",difftime(wt2,wt1));\n",
    "\t}*/\n",
    "\n",
    "  /*** Do matrix multiply sharing iterations on outer loop ***/\n",
    "  /*** Display who does which iterations for demonstration purposes ***/\n",
    "  printf(\"Thread %d starting matrix multiply...\\n\",tid);\n",
    "\n",
    "  if (tid == 0)\t\n",
    "  \tt1=(double)clock()/(double)CLOCKS_PER_SEC;\n",
    "\n",
    "#pragma omp for schedule (static, chunk)\n",
    "  for (i=0; i<NRA; i++){\n",
    "    //printf(\"Thread=%d did row=%d\\n\",tid,i);\n",
    "    for(j=0; j<NCB; j++)       \n",
    "      for (k=0; k<NCA; k++)\n",
    "        c[j+NCB*i] += a[k+NCA*i] * b[j+NCB*k];\n",
    "  }\n",
    "  }   /*** End of parallel region ***/\n",
    "\n",
    "  //if (tid == 0){\n",
    " \tt2=(double)clock()/(double)CLOCKS_PER_SEC;\n",
    "\tprintf(\"Computation CPUtime %5.2fs\\n\",t2-t1);\n",
    "\ttime(&wt2);\n",
    "        printf(\"Computation WallClockTime %2.0fs\\n\",difftime(wt2,wt1));\n",
    "//\t}\t\n",
    "\n",
    "}\n"
   ]
  },
  {
   "cell_type": "markdown",
   "metadata": {},
   "source": [
    "## Compile"
   ]
  },
  {
   "cell_type": "code",
   "execution_count": null,
   "metadata": {},
   "outputs": [],
   "source": []
  },
  {
   "cell_type": "markdown",
   "metadata": {},
   "source": [
    "## Run"
   ]
  },
  {
   "cell_type": "code",
   "execution_count": null,
   "metadata": {},
   "outputs": [],
   "source": []
  },
  {
   "cell_type": "markdown",
   "metadata": {},
   "source": [
    "# omp_mm Fortran\n",
    "\n",
    "*   OpenMp Example - Matrix Multiply - C Version\n",
    "*   Demonstrates a matrix multiply using OpenMP. Threads share row iterations\n",
    "*   according to a predefined chunk size."
   ]
  },
  {
   "cell_type": "code",
   "execution_count": 13,
   "metadata": {},
   "outputs": [
    {
     "name": "stdout",
     "output_type": "stream",
     "text": [
      "Writing omp_mm.f\n"
     ]
    }
   ],
   "source": [
    "%%writefile omp_mm.f\n",
    "\n",
    "\n",
    "/******************************************************************************\n",
    "* FILE: omp_mm.c\n",
    "* DESCRIPTION:  \n",
    "*   OpenMp Example - Matrix Multiply - C Version\n",
    "*   Demonstrates a matrix multiply using OpenMP. Threads share row iterations\n",
    "*   according to a predefined chunk size.\n",
    "* AUTHOR: Blaise Barney\n",
    "* LAST REVISED: 06/28/05\n",
    "******************************************************************************/\n",
    "#include <omp.h>\n",
    "#include <stdio.h>\n",
    "#include <stdlib.h>\n",
    "\n",
    "#define NRA 62                 /* number of rows in matrix A */\n",
    "#define NCA 15                 /* number of columns in matrix A */\n",
    "#define NCB 7                  /* number of columns in matrix B */\n",
    "\n",
    "int main (int argc, char *argv[]) \n",
    "{\n",
    "int\ttid, nthreads, i, j, k, chunk;\n",
    "double\ta[NRA][NCA],           /* matrix A to be multiplied */\n",
    "\tb[NCA][NCB],           /* matrix B to be multiplied */\n",
    "\tc[NRA][NCB];           /* result matrix C */\n",
    "\n",
    "chunk = 10;                    /* set loop iteration chunk size */\n",
    "\n",
    "/*** Spawn a parallel region explicitly scoping all variables ***/\n",
    "#pragma omp parallel shared(a,b,c,nthreads,chunk) private(tid,i,j,k)\n",
    "  {\n",
    "  tid = omp_get_thread_num();\n",
    "  if (tid == 0)\n",
    "    {\n",
    "    nthreads = omp_get_num_threads();\n",
    "    printf(\"Starting matrix multiple example with %d threads\\n\",nthreads);\n",
    "    printf(\"Initializing matrices...\\n\");\n",
    "    }\n",
    "  /*** Initialize matrices ***/\n",
    "  #pragma omp for schedule (static, chunk) \n",
    "  for (i=0; i<NRA; i++)\n",
    "    for (j=0; j<NCA; j++)\n",
    "      a[i][j]= i+j;\n",
    "  #pragma omp for schedule (static, chunk)\n",
    "  for (i=0; i<NCA; i++)\n",
    "    for (j=0; j<NCB; j++)\n",
    "      b[i][j]= i*j;\n",
    "  #pragma omp for schedule (static, chunk)\n",
    "  for (i=0; i<NRA; i++)\n",
    "    for (j=0; j<NCB; j++)\n",
    "      c[i][j]= 0;\n",
    "\n",
    "  /*** Do matrix multiply sharing iterations on outer loop ***/\n",
    "  /*** Display who does which iterations for demonstration purposes ***/\n",
    "  printf(\"Thread %d starting matrix multiply...\\n\",tid);\n",
    "  #pragma omp for schedule (static, chunk)\n",
    "  for (i=0; i<NRA; i++)    \n",
    "    {\n",
    "    printf(\"Thread=%d did row=%d\\n\",tid,i);\n",
    "    for(j=0; j<NCB; j++)       \n",
    "      for (k=0; k<NCA; k++)\n",
    "        c[i][j] += a[i][k] * b[k][j];\n",
    "    }\n",
    "  }   /*** End of parallel region ***/\n",
    "\n",
    "/*** Print results ***/\n",
    "printf(\"******************************************************\\n\");\n",
    "printf(\"Result Matrix:\\n\");\n",
    "for (i=0; i<NRA; i++)\n",
    "  {\n",
    "  for (j=0; j<NCB; j++) \n",
    "    printf(\"%6.2f   \", c[i][j]);\n",
    "  printf(\"\\n\"); \n",
    "  }\n",
    "printf(\"******************************************************\\n\");\n",
    "printf (\"Done.\\n\");\n",
    "\n",
    "}\n"
   ]
  },
  {
   "cell_type": "markdown",
   "metadata": {},
   "source": [
    "## Compile"
   ]
  },
  {
   "cell_type": "code",
   "execution_count": null,
   "metadata": {},
   "outputs": [],
   "source": []
  },
  {
   "cell_type": "markdown",
   "metadata": {},
   "source": [
    "## Run"
   ]
  },
  {
   "cell_type": "code",
   "execution_count": null,
   "metadata": {},
   "outputs": [],
   "source": []
  },
  {
   "cell_type": "markdown",
   "metadata": {},
   "source": [
    "# omp_reduction C"
   ]
  },
  {
   "cell_type": "code",
   "execution_count": 14,
   "metadata": {},
   "outputs": [
    {
     "name": "stdout",
     "output_type": "stream",
     "text": [
      "Writing omp_reduction.c\n"
     ]
    }
   ],
   "source": [
    "%%writefile omp_reduction.c\n",
    "\n",
    "\n",
    "/******************************************************************************\n",
    "* FILE: omp_reduction.c\n",
    "* DESCRIPTION:\n",
    "*   OpenMP Example - Combined Parallel Loop Reduction - C/C++ Version\n",
    "*   This example demonstrates a sum reduction within a combined parallel loop\n",
    "*   construct.  Notice that default data element scoping is assumed - there\n",
    "*   are no clauses specifying shared or private variables.  OpenMP will \n",
    "*   automatically make loop index variables private within team threads, and\n",
    "*   global variables shared.\n",
    "* AUTHOR: Blaise Barney  5/99\n",
    "* LAST REVISED: 04/06/05\n",
    "******************************************************************************/\n",
    "#include <omp.h>\n",
    "#include <stdio.h>\n",
    "#include <stdlib.h>\n",
    "\n",
    "int main (int argc, char *argv[]) {\n",
    "\n",
    "int   i, n;\n",
    "float a[100], b[100], sum; \n",
    "\n",
    "/* Some initializations */\n",
    "n = 100;\n",
    "for (i=0; i < n; i++)\n",
    "  a[i] = b[i] = i * 1.0;\n",
    "sum = 0.0;\n",
    "\n",
    "#pragma omp parallel for reduction(+:sum)\n",
    "  for (i=0; i < n; i++)\n",
    "    sum = sum + (a[i] * b[i]);\n",
    "\n",
    "printf(\"   Sum = %f\\n\",sum);\n",
    "\n",
    "}\n"
   ]
  },
  {
   "cell_type": "markdown",
   "metadata": {},
   "source": [
    "## Compile"
   ]
  },
  {
   "cell_type": "code",
   "execution_count": null,
   "metadata": {},
   "outputs": [],
   "source": []
  },
  {
   "cell_type": "markdown",
   "metadata": {},
   "source": [
    "## Run"
   ]
  },
  {
   "cell_type": "code",
   "execution_count": null,
   "metadata": {},
   "outputs": [],
   "source": []
  },
  {
   "cell_type": "markdown",
   "metadata": {},
   "source": [
    "# omp_reduction Fortran"
   ]
  },
  {
   "cell_type": "code",
   "execution_count": 15,
   "metadata": {},
   "outputs": [
    {
     "name": "stdout",
     "output_type": "stream",
     "text": [
      "Writing omp_reduction.f\n"
     ]
    }
   ],
   "source": [
    "%%writefile omp_reduction.f\n",
    "\n",
    "C******************************************************************************\n",
    "C FILE: omp_reduction.f\n",
    "C DESCRIPTION:\n",
    "C   OpenMP Example - Combined Parallel Loop Reduction - Fortran Version\n",
    "C   This example demonstrates a sum reduction within a combined parallel loop\n",
    "C   construct.  Notice that default data element scoping is assumed - there\n",
    "C   are no clauses specifying shared or private variables.  OpenMP will\n",
    "C   automatically make loop index variables private within team threads, and\n",
    "C   global variables shared.\n",
    "C AUTHOR: Blaise Barney  5/99\n",
    "C LAST REVISED:\n",
    "C******************************************************************************\n",
    "\n",
    "      PROGRAM REDUCTION\n",
    "\n",
    "      INTEGER I, N\n",
    "      REAL A(100), B(100), SUM\n",
    "\n",
    "!     Some initializations\n",
    "      N = 100\n",
    "      DO I = 1, N\n",
    "        A(I) = I *1.0\n",
    "        B(I) = A(I)\n",
    "      ENDDO\n",
    "      SUM = 0.0\n",
    "\n",
    "!$OMP PARALLEL DO REDUCTION(+:SUM)\n",
    "      DO I = 1, N\n",
    "        SUM = SUM + (A(I) * B(I))\n",
    "      ENDDO\n",
    "\n",
    "      PRINT *, '   Sum = ', SUM\n",
    "      END\n"
   ]
  },
  {
   "cell_type": "markdown",
   "metadata": {},
   "source": [
    "## Compile"
   ]
  },
  {
   "cell_type": "code",
   "execution_count": null,
   "metadata": {},
   "outputs": [],
   "source": []
  },
  {
   "cell_type": "markdown",
   "metadata": {},
   "source": [
    "## Run"
   ]
  },
  {
   "cell_type": "code",
   "execution_count": null,
   "metadata": {},
   "outputs": [],
   "source": []
  }
 ],
 "metadata": {
  "kernelspec": {
   "display_name": "Python 3",
   "language": "python",
   "name": "python3"
  },
  "language_info": {
   "codemirror_mode": {
    "name": "ipython",
    "version": 3
   },
   "file_extension": ".py",
   "mimetype": "text/x-python",
   "name": "python",
   "nbconvert_exporter": "python",
   "pygments_lexer": "ipython3",
   "version": "3.8.10"
  }
 },
 "nbformat": 4,
 "nbformat_minor": 4
}
